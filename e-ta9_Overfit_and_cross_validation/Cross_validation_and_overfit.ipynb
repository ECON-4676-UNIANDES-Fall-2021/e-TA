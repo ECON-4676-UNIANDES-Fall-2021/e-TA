{
 "cells": [
  {
   "cell_type": "markdown",
   "metadata": {},
   "source": [
    "# **Overfit and cross validation**"
   ]
  },
  {
   "cell_type": "code",
   "execution_count": 417,
   "metadata": {},
   "outputs": [],
   "source": [
    "import pandas as pd\n",
    "import numpy as np\n",
    "import itertools \n",
    "from multiprocessing.dummy import Pool\n",
    "import sklearn\n",
    "import matplotlib.pyplot as plt"
   ]
  },
  {
   "cell_type": "markdown",
   "metadata": {},
   "source": [
    "- In this class we are going to use a credit default data base, to try to predict if a person is going to enter in default, given the person caracteristics. You can find the databes [here](https://www.kaggle.com/c/credit-default-prediction-ai-big-data/rules)"
   ]
  },
  {
   "cell_type": "code",
   "execution_count": 428,
   "metadata": {},
   "outputs": [],
   "source": [
    "train=pd.read_csv('train.csv')\n",
    "test=pd.read_csv('test.csv')"
   ]
  },
  {
   "cell_type": "code",
   "execution_count": 429,
   "metadata": {},
   "outputs": [
    {
     "data": {
      "text/plain": [
       "Id                                 0\n",
       "Home Ownership                     0\n",
       "Annual Income                    513\n",
       "Years in current job              86\n",
       "Tax Liens                          0\n",
       "Number of Open Accounts            0\n",
       "Years of Credit History            0\n",
       "Maximum Open Credit                0\n",
       "Number of Credit Problems          0\n",
       "Months since last delinquent    1358\n",
       "Bankruptcies                       3\n",
       "Purpose                            0\n",
       "Term                               0\n",
       "Current Loan Amount                0\n",
       "Current Credit Balance             0\n",
       "Monthly Debt                       0\n",
       "Credit Score                     513\n",
       "dtype: int64"
      ]
     },
     "execution_count": 429,
     "metadata": {},
     "output_type": "execute_result"
    }
   ],
   "source": [
    "test.isna().sum()"
   ]
  },
  {
   "cell_type": "code",
   "execution_count": 430,
   "metadata": {},
   "outputs": [
    {
     "data": {
      "text/plain": [
       "Id                                 0\n",
       "Home Ownership                     0\n",
       "Annual Income                   1557\n",
       "Years in current job             371\n",
       "Tax Liens                          0\n",
       "Number of Open Accounts            0\n",
       "Years of Credit History            0\n",
       "Maximum Open Credit                0\n",
       "Number of Credit Problems          0\n",
       "Months since last delinquent    4081\n",
       "Bankruptcies                      14\n",
       "Purpose                            0\n",
       "Term                               0\n",
       "Current Loan Amount                0\n",
       "Current Credit Balance             0\n",
       "Monthly Debt                       0\n",
       "Credit Score                    1557\n",
       "Credit Default                     0\n",
       "dtype: int64"
      ]
     },
     "execution_count": 430,
     "metadata": {},
     "output_type": "execute_result"
    }
   ],
   "source": [
    "train.isna().sum()"
   ]
  },
  {
   "cell_type": "code",
   "execution_count": 431,
   "metadata": {},
   "outputs": [],
   "source": [
    "la=[train,test]\n",
    "for i in la:\n",
    "    i['Years in current job']=i['Years in current job'].replace(np.nan,'mis')\n",
    "    i['Annual Income']=i['Annual Income'].replace(np.nan,0)\n",
    "    i['Credit Score']=i['Credit Score'].replace(np.nan,0)\n",
    "  \n",
    "    "
   ]
  },
  {
   "cell_type": "code",
   "execution_count": 432,
   "metadata": {},
   "outputs": [],
   "source": [
    "train=train.drop(columns=['Months since last delinquent'])\n",
    "train=train[train['Bankruptcies'].isnull()==False]\n",
    "test=test.drop(columns=['Months since last delinquent'])\n",
    "test=test[test['Bankruptcies'].isnull()==False]"
   ]
  },
  {
   "cell_type": "code",
   "execution_count": 436,
   "metadata": {},
   "outputs": [
    {
     "data": {
      "text/plain": [
       "Index(['Id', 'Home Ownership', 'Annual Income', 'Years in current job',\n",
       "       'Tax Liens', 'Number of Open Accounts', 'Years of Credit History',\n",
       "       'Maximum Open Credit', 'Number of Credit Problems', 'Bankruptcies',\n",
       "       'Purpose', 'Term', 'Current Loan Amount', 'Current Credit Balance',\n",
       "       'Monthly Debt', 'Credit Score', 'Credit Default'],\n",
       "      dtype='object')"
      ]
     },
     "execution_count": 436,
     "metadata": {},
     "output_type": "execute_result"
    }
   ],
   "source": [
    "train.columns"
   ]
  },
  {
   "cell_type": "code",
   "execution_count": 437,
   "metadata": {},
   "outputs": [],
   "source": [
    "dummies= pd.get_dummies(train[['Home Ownership', 'Years in current job','Bankruptcies','Number of Credit Problems','Purpose','Term','Credit Default','Number of Open Accounts']])\n",
    "train=train.drop(columns=['Home Ownership', 'Years in current job','Bankruptcies','Number of Credit Problems','Purpose','Term','Credit Default','Number of Open Accounts'])\n",
    "train = pd.concat([train, dummies], axis=1)"
   ]
  },
  {
   "cell_type": "code",
   "execution_count": 438,
   "metadata": {},
   "outputs": [],
   "source": [
    "def dummies(categoricas,dataframe):\n",
    "    dummies= pd.get_dummies(dataframe[categoricas])\n",
    "    dataframe=dataframe.drop(columns=categoricas)\n",
    "    dataframe = pd.concat([dataframe, dummies], axis=1)\n",
    "    return dataframe\n",
    "    "
   ]
  },
  {
   "cell_type": "code",
   "execution_count": 439,
   "metadata": {},
   "outputs": [],
   "source": [
    "test=dummies(['Home Ownership', 'Years in current job','Bankruptcies','Number of Credit Problems','Purpose','Term','Number of Open Accounts'],test)"
   ]
  },
  {
   "cell_type": "markdown",
   "metadata": {},
   "source": [
    "## **70%-30% validation approach**"
   ]
  },
  {
   "cell_type": "markdown",
   "metadata": {},
   "source": [
    "- Sklearn logistic [regression](https://scikit-learn.org/stable/modules/generated/sklearn.linear_model.LogisticRegression.html)"
   ]
  },
  {
   "cell_type": "markdown",
   "metadata": {},
   "source": [
    "-[Accuracy metric](https://scikit-learn.org/stable/modules/generated/sklearn.metrics.accuracy_score.html#sklearn.metrics.accuracy_score)"
   ]
  },
  {
   "cell_type": "code",
   "execution_count": 441,
   "metadata": {},
   "outputs": [],
   "source": [
    "from sklearn.linear_model import LogisticRegression\n",
    "from sklearn.model_selection import train_test_split\n",
    "from sklearn.metrics import accuracy_score"
   ]
  },
  {
   "cell_type": "code",
   "execution_count": 442,
   "metadata": {},
   "outputs": [],
   "source": [
    "x_train, x_test, y_train, y_test = train_test_split(train.drop(columns=['Credit Default']),train['Credit Default'], test_size=0.30,\n",
    "                                                    random_state=200,\n",
    "                                                    shuffle=True)"
   ]
  },
  {
   "cell_type": "code",
   "execution_count": 444,
   "metadata": {},
   "outputs": [],
   "source": [
    "clf = LogisticRegression(max_iter=20000).fit(x_train, y_train)"
   ]
  },
  {
   "cell_type": "code",
   "execution_count": 147,
   "metadata": {
    "collapsed": true,
    "jupyter": {
     "outputs_hidden": true,
     "source_hidden": true
    }
   },
   "outputs": [
    {
     "data": {
      "text/plain": [
       "array([[0.51162559, 0.48837441],\n",
       "       [0.76363346, 0.23636654],\n",
       "       [0.62475843, 0.37524157],\n",
       "       ...,\n",
       "       [0.81345159, 0.18654841],\n",
       "       [0.76360154, 0.23639846],\n",
       "       [0.65627916, 0.34372084]])"
      ]
     },
     "execution_count": 147,
     "metadata": {},
     "output_type": "execute_result"
    }
   ],
   "source": [
    "clf.predict_proba(x_test)"
   ]
  },
  {
   "cell_type": "code",
   "execution_count": 445,
   "metadata": {},
   "outputs": [],
   "source": [
    "y_pred=clf.predict(x_test)"
   ]
  },
  {
   "cell_type": "code",
   "execution_count": 446,
   "metadata": {},
   "outputs": [
    {
     "data": {
      "text/plain": [
       "0.7600178094390027"
      ]
     },
     "execution_count": 446,
     "metadata": {},
     "output_type": "execute_result"
    }
   ],
   "source": [
    "accuracy_score(y_test, y_pred)"
   ]
  },
  {
   "cell_type": "markdown",
   "metadata": {},
   "source": [
    "## **Cross Validation approach**"
   ]
  },
  {
   "cell_type": "markdown",
   "metadata": {},
   "source": [
    "- Supouse we only had the following feautures **('Annual Income', 'Tax Liens', 'Years of Credit History','Maximum Open Credit', 'Current Loan Amount', 'Current Credit Balance','Monthly Debt', 'Credit Score', 'Bankruptcies')**, and we wanted to know which linear combination of this feautures gets the best out of sample error."
   ]
  },
  {
   "cell_type": "code",
   "execution_count": 449,
   "metadata": {},
   "outputs": [],
   "source": [
    "train2=train[['Annual Income', 'Tax Liens', 'Years of Credit History',\n",
    "       'Maximum Open Credit', 'Current Loan Amount', 'Current Credit Balance',\n",
    "       'Monthly Debt', 'Credit Score', 'Bankruptcies','Credit Default']]"
   ]
  },
  {
   "cell_type": "code",
   "execution_count": 237,
   "metadata": {},
   "outputs": [],
   "source": [
    "lista=['Annual Income', 'Tax Liens', 'Years of Credit History','Maximum Open Credit', 'Current Loan Amount', 'Current Credit Balance','Monthly Debt', 'Credit Score', 'Bankruptcies']"
   ]
  },
  {
   "cell_type": "code",
   "execution_count": 492,
   "metadata": {},
   "outputs": [],
   "source": [
    "sublists=[]\n",
    "for L in range(0, len(lista)+1):\n",
    "    for sublist in itertools.combinations(lista, L):\n",
    "        sublists.append(list(sublist))\n",
    "        \n",
    "        "
   ]
  },
  {
   "cell_type": "code",
   "execution_count": 454,
   "metadata": {},
   "outputs": [],
   "source": [
    "la=int(train2.shape[0]/5)\n",
    "a=0\n",
    "cortes=[]\n",
    "for i in range(0,k):\n",
    "    y=[]\n",
    "    y.append(a)\n",
    "    a+=la\n",
    "    y.append(a)\n",
    "    cortes.append(y)"
   ]
  },
  {
   "cell_type": "code",
   "execution_count": null,
   "metadata": {},
   "outputs": [],
   "source": [
    "!ipynb-py-convert function.ipynb function1.py\n",
    "from function1 import fit_model_cross_approach"
   ]
  },
  {
   "cell_type": "code",
   "execution_count": 495,
   "metadata": {},
   "outputs": [],
   "source": [
    "def fit_model_cross_approach(la):\n",
    "    global sublists,train2 \n",
    "    k=5\n",
    "    x=sublists[la]\n",
    "    dataframe=train2\n",
    "    dataframe = dataframe.sample(frac=1).reset_index(drop=True)\n",
    "    la=int(dataframe.shape[0]/k)\n",
    "    a=0\n",
    "    cortes=[]\n",
    "    for i in range(0,k):\n",
    "        y=[]\n",
    "        y.append(a)\n",
    "        a+=la\n",
    "        y.append(a)\n",
    "        cortes.append(y)\n",
    "    metrics=[]\n",
    "    for i in cortes:\n",
    "        test=dataframe[i[0]:i[1]]\n",
    "        train=dataframe.drop(index=list(range(i[0],i[1])))\n",
    "        clf = LogisticRegression(max_iter=20000).fit(train[x], train['Credit Default'])\n",
    "        y_pred=clf.predict(test[x])\n",
    "        metrics.append(accuracy_score(test['Credit Default'], y_pred))\n",
    "    return sum(metrics)/k\n"
   ]
  },
  {
   "cell_type": "code",
   "execution_count": 488,
   "metadata": {},
   "outputs": [],
   "source": [
    "errores=[]"
   ]
  },
  {
   "cell_type": "code",
   "execution_count": 496,
   "metadata": {},
   "outputs": [
    {
     "data": {
      "text/plain": [
       "0.7183700734802938"
      ]
     },
     "execution_count": 496,
     "metadata": {},
     "output_type": "execute_result"
    }
   ],
   "source": [
    "fit_model_cross_approach(1)"
   ]
  },
  {
   "cell_type": "markdown",
   "metadata": {},
   "source": [
    "- Let´s run the function for all the positions of the list sublists anda appende the k-fold error un the list errores"
   ]
  },
  {
   "cell_type": "code",
   "execution_count": 497,
   "metadata": {},
   "outputs": [],
   "source": [
    "\n",
    "for i in range(1,len(sublists)):\n",
    "    errores.append(fit_model_cross_approach(i))\n",
    "\n",
    "    \n",
    "    "
   ]
  },
  {
   "cell_type": "code",
   "execution_count": 501,
   "metadata": {},
   "outputs": [],
   "source": [
    "max_value = max(errores)\n",
    "al=errores.index(max_value)\n",
    "\n"
   ]
  },
  {
   "cell_type": "markdown",
   "metadata": {},
   "source": [
    "-The model that give us the best out of sample prediction is:\n",
    "    "
   ]
  },
  {
   "cell_type": "code",
   "execution_count": 502,
   "metadata": {},
   "outputs": [
    {
     "data": {
      "text/plain": [
       "['Tax Liens', 'Years of Credit History', 'Current Credit Balance']"
      ]
     },
     "execution_count": 502,
     "metadata": {},
     "output_type": "execute_result"
    }
   ],
   "source": [
    "sublists[al-1]"
   ]
  },
  {
   "cell_type": "markdown",
   "metadata": {},
   "source": [
    "- **Overfitting and Lasso**"
   ]
  },
  {
   "cell_type": "markdown",
   "metadata": {},
   "source": [
    "- common notation l1=Lasso l2=ridge"
   ]
  },
  {
   "cell_type": "code",
   "execution_count": 476,
   "metadata": {},
   "outputs": [],
   "source": [
    "from sklearn.linear_model import SGDClassifier\n",
    "sgd_clf = LogisticRegression(max_iter=200000,penalty='l1', solver='liblinear',tol=0.3,random_state = 100)"
   ]
  },
  {
   "cell_type": "code",
   "execution_count": 477,
   "metadata": {},
   "outputs": [],
   "source": [
    "clf1 =sgd_clf.fit(x_train, y_train)"
   ]
  },
  {
   "cell_type": "code",
   "execution_count": 478,
   "metadata": {},
   "outputs": [],
   "source": [
    "y_pred1=clf1.predict(x_test)"
   ]
  },
  {
   "cell_type": "code",
   "execution_count": 479,
   "metadata": {},
   "outputs": [
    {
     "data": {
      "text/plain": [
       "0.7662511130899377"
      ]
     },
     "execution_count": 479,
     "metadata": {},
     "output_type": "execute_result"
    }
   ],
   "source": [
    "accuracy_score(y_test, y_pred1)"
   ]
  },
  {
   "cell_type": "code",
   "execution_count": null,
   "metadata": {},
   "outputs": [],
   "source": [
    "sklearn.metrics.SCORERS.keys()\n",
    "LogisticRegression(max_iter=200000).get_params().keys()"
   ]
  },
  {
   "cell_type": "code",
   "execution_count": 482,
   "metadata": {},
   "outputs": [],
   "source": [
    "from sklearn.model_selection import KFold\n",
    "from sklearn.model_selection import cross_val_score\n",
    "from sklearn.model_selection import GridSearchCV"
   ]
  },
  {
   "cell_type": "code",
   "execution_count": 483,
   "metadata": {},
   "outputs": [
    {
     "name": "stdout",
     "output_type": "stream",
     "text": [
      "Fitting 5 folds for each of 9 candidates, totalling 45 fits\n"
     ]
    },
    {
     "name": "stderr",
     "output_type": "stream",
     "text": [
      "[Parallel(n_jobs=10)]: Using backend LokyBackend with 10 concurrent workers.\n",
      "[Parallel(n_jobs=10)]: Done  45 out of  45 | elapsed:    2.1s finished\n"
     ]
    }
   ],
   "source": [
    "folds = KFold(n_splits = 5, shuffle = True, random_state = 100)\n",
    "hyper_params = [{'tol': [0.0,0.1,0.2,0.3,0.4,0.5,0.6,0.7,0.8]}]\n",
    "sgd_clf = LogisticRegression(max_iter=200000,penalty='l1',solver='liblinear',random_state = 1005)\n",
    "\n",
    "            \n",
    "model_cv = GridSearchCV(estimator = sgd_clf, \n",
    "                        param_grid = hyper_params, \n",
    "                        scoring= 'accuracy', \n",
    "                        cv = folds, \n",
    "                        verbose = 1,\n",
    "                        return_train_score=True\n",
    "                       ,n_jobs=10)      \n",
    "bla=model_cv.fit(x_train, y_train)  "
   ]
  },
  {
   "cell_type": "code",
   "execution_count": 484,
   "metadata": {},
   "outputs": [
    {
     "data": {
      "text/plain": [
       "LogisticRegression(max_iter=200000, penalty='l1', random_state=1005,\n",
       "                   solver='liblinear', tol=0.2)"
      ]
     },
     "execution_count": 484,
     "metadata": {},
     "output_type": "execute_result"
    }
   ],
   "source": [
    "model_cv.best_estimator_"
   ]
  },
  {
   "cell_type": "code",
   "execution_count": 485,
   "metadata": {},
   "outputs": [
    {
     "data": {
      "text/plain": [
       "0.767586821015138"
      ]
     },
     "execution_count": 485,
     "metadata": {},
     "output_type": "execute_result"
    }
   ],
   "source": [
    "y_pred2=bla.predict(x_test)\n",
    "accuracy_score(y_test, y_pred2)"
   ]
  },
  {
   "cell_type": "code",
   "execution_count": 487,
   "metadata": {
    "collapsed": true,
    "jupyter": {
     "outputs_hidden": true
    }
   },
   "outputs": [
    {
     "data": {
      "text/html": [
       "<div>\n",
       "<style scoped>\n",
       "    .dataframe tbody tr th:only-of-type {\n",
       "        vertical-align: middle;\n",
       "    }\n",
       "\n",
       "    .dataframe tbody tr th {\n",
       "        vertical-align: top;\n",
       "    }\n",
       "\n",
       "    .dataframe thead th {\n",
       "        text-align: right;\n",
       "    }\n",
       "</style>\n",
       "<table border=\"1\" class=\"dataframe\">\n",
       "  <thead>\n",
       "    <tr style=\"text-align: right;\">\n",
       "      <th></th>\n",
       "      <th>mean_fit_time</th>\n",
       "      <th>std_fit_time</th>\n",
       "      <th>mean_score_time</th>\n",
       "      <th>std_score_time</th>\n",
       "      <th>param_tol</th>\n",
       "      <th>params</th>\n",
       "      <th>split0_test_score</th>\n",
       "      <th>split1_test_score</th>\n",
       "      <th>split2_test_score</th>\n",
       "      <th>split3_test_score</th>\n",
       "      <th>...</th>\n",
       "      <th>mean_test_score</th>\n",
       "      <th>std_test_score</th>\n",
       "      <th>rank_test_score</th>\n",
       "      <th>split0_train_score</th>\n",
       "      <th>split1_train_score</th>\n",
       "      <th>split2_train_score</th>\n",
       "      <th>split3_train_score</th>\n",
       "      <th>split4_train_score</th>\n",
       "      <th>mean_train_score</th>\n",
       "      <th>std_train_score</th>\n",
       "    </tr>\n",
       "  </thead>\n",
       "  <tbody>\n",
       "    <tr>\n",
       "      <th>0</th>\n",
       "      <td>0.015160</td>\n",
       "      <td>0.002632</td>\n",
       "      <td>0.000000</td>\n",
       "      <td>0.000000</td>\n",
       "      <td>0</td>\n",
       "      <td>{'tol': 0.0}</td>\n",
       "      <td>NaN</td>\n",
       "      <td>NaN</td>\n",
       "      <td>NaN</td>\n",
       "      <td>NaN</td>\n",
       "      <td>...</td>\n",
       "      <td>NaN</td>\n",
       "      <td>NaN</td>\n",
       "      <td>9</td>\n",
       "      <td>NaN</td>\n",
       "      <td>NaN</td>\n",
       "      <td>NaN</td>\n",
       "      <td>NaN</td>\n",
       "      <td>NaN</td>\n",
       "      <td>NaN</td>\n",
       "      <td>NaN</td>\n",
       "    </tr>\n",
       "    <tr>\n",
       "      <th>1</th>\n",
       "      <td>0.020545</td>\n",
       "      <td>0.000488</td>\n",
       "      <td>0.010970</td>\n",
       "      <td>0.001091</td>\n",
       "      <td>0.1</td>\n",
       "      <td>{'tol': 0.1}</td>\n",
       "      <td>0.780534</td>\n",
       "      <td>0.765267</td>\n",
       "      <td>0.789122</td>\n",
       "      <td>0.770038</td>\n",
       "      <td>...</td>\n",
       "      <td>0.777099</td>\n",
       "      <td>0.008462</td>\n",
       "      <td>2</td>\n",
       "      <td>0.777910</td>\n",
       "      <td>0.779819</td>\n",
       "      <td>0.775286</td>\n",
       "      <td>0.779819</td>\n",
       "      <td>0.777672</td>\n",
       "      <td>0.778101</td>\n",
       "      <td>0.001676</td>\n",
       "    </tr>\n",
       "    <tr>\n",
       "      <th>2</th>\n",
       "      <td>0.018772</td>\n",
       "      <td>0.002230</td>\n",
       "      <td>0.012141</td>\n",
       "      <td>0.000771</td>\n",
       "      <td>0.2</td>\n",
       "      <td>{'tol': 0.2}</td>\n",
       "      <td>0.783397</td>\n",
       "      <td>0.768130</td>\n",
       "      <td>0.788168</td>\n",
       "      <td>0.770038</td>\n",
       "      <td>...</td>\n",
       "      <td>0.778053</td>\n",
       "      <td>0.007743</td>\n",
       "      <td>1</td>\n",
       "      <td>0.777433</td>\n",
       "      <td>0.781727</td>\n",
       "      <td>0.774332</td>\n",
       "      <td>0.781250</td>\n",
       "      <td>0.778626</td>\n",
       "      <td>0.778674</td>\n",
       "      <td>0.002696</td>\n",
       "    </tr>\n",
       "    <tr>\n",
       "      <th>3</th>\n",
       "      <td>0.018151</td>\n",
       "      <td>0.001164</td>\n",
       "      <td>0.005984</td>\n",
       "      <td>0.003090</td>\n",
       "      <td>0.3</td>\n",
       "      <td>{'tol': 0.3}</td>\n",
       "      <td>0.785305</td>\n",
       "      <td>0.767176</td>\n",
       "      <td>0.783397</td>\n",
       "      <td>0.771947</td>\n",
       "      <td>...</td>\n",
       "      <td>0.776718</td>\n",
       "      <td>0.006828</td>\n",
       "      <td>3</td>\n",
       "      <td>0.775763</td>\n",
       "      <td>0.780773</td>\n",
       "      <td>0.773616</td>\n",
       "      <td>0.778387</td>\n",
       "      <td>0.777195</td>\n",
       "      <td>0.777147</td>\n",
       "      <td>0.002411</td>\n",
       "    </tr>\n",
       "    <tr>\n",
       "      <th>4</th>\n",
       "      <td>0.021744</td>\n",
       "      <td>0.005896</td>\n",
       "      <td>0.006182</td>\n",
       "      <td>0.003910</td>\n",
       "      <td>0.4</td>\n",
       "      <td>{'tol': 0.4}</td>\n",
       "      <td>0.785305</td>\n",
       "      <td>0.767176</td>\n",
       "      <td>0.783397</td>\n",
       "      <td>0.771947</td>\n",
       "      <td>...</td>\n",
       "      <td>0.776718</td>\n",
       "      <td>0.006828</td>\n",
       "      <td>3</td>\n",
       "      <td>0.775763</td>\n",
       "      <td>0.780773</td>\n",
       "      <td>0.773616</td>\n",
       "      <td>0.778387</td>\n",
       "      <td>0.777195</td>\n",
       "      <td>0.777147</td>\n",
       "      <td>0.002411</td>\n",
       "    </tr>\n",
       "    <tr>\n",
       "      <th>5</th>\n",
       "      <td>0.020742</td>\n",
       "      <td>0.003179</td>\n",
       "      <td>0.004788</td>\n",
       "      <td>0.000747</td>\n",
       "      <td>0.5</td>\n",
       "      <td>{'tol': 0.5}</td>\n",
       "      <td>0.785305</td>\n",
       "      <td>0.767176</td>\n",
       "      <td>0.783397</td>\n",
       "      <td>0.771947</td>\n",
       "      <td>...</td>\n",
       "      <td>0.776718</td>\n",
       "      <td>0.006828</td>\n",
       "      <td>3</td>\n",
       "      <td>0.775763</td>\n",
       "      <td>0.780773</td>\n",
       "      <td>0.773616</td>\n",
       "      <td>0.778387</td>\n",
       "      <td>0.777195</td>\n",
       "      <td>0.777147</td>\n",
       "      <td>0.002411</td>\n",
       "    </tr>\n",
       "    <tr>\n",
       "      <th>6</th>\n",
       "      <td>0.019148</td>\n",
       "      <td>0.001164</td>\n",
       "      <td>0.005984</td>\n",
       "      <td>0.002601</td>\n",
       "      <td>0.6</td>\n",
       "      <td>{'tol': 0.6}</td>\n",
       "      <td>0.785305</td>\n",
       "      <td>0.767176</td>\n",
       "      <td>0.783397</td>\n",
       "      <td>0.771947</td>\n",
       "      <td>...</td>\n",
       "      <td>0.776718</td>\n",
       "      <td>0.006828</td>\n",
       "      <td>3</td>\n",
       "      <td>0.775763</td>\n",
       "      <td>0.780773</td>\n",
       "      <td>0.773616</td>\n",
       "      <td>0.778387</td>\n",
       "      <td>0.777195</td>\n",
       "      <td>0.777147</td>\n",
       "      <td>0.002411</td>\n",
       "    </tr>\n",
       "    <tr>\n",
       "      <th>7</th>\n",
       "      <td>0.018151</td>\n",
       "      <td>0.000746</td>\n",
       "      <td>0.004014</td>\n",
       "      <td>0.000670</td>\n",
       "      <td>0.7</td>\n",
       "      <td>{'tol': 0.7}</td>\n",
       "      <td>0.785305</td>\n",
       "      <td>0.767176</td>\n",
       "      <td>0.783397</td>\n",
       "      <td>0.771947</td>\n",
       "      <td>...</td>\n",
       "      <td>0.776718</td>\n",
       "      <td>0.006828</td>\n",
       "      <td>3</td>\n",
       "      <td>0.775763</td>\n",
       "      <td>0.780773</td>\n",
       "      <td>0.773616</td>\n",
       "      <td>0.778387</td>\n",
       "      <td>0.777195</td>\n",
       "      <td>0.777147</td>\n",
       "      <td>0.002411</td>\n",
       "    </tr>\n",
       "    <tr>\n",
       "      <th>8</th>\n",
       "      <td>0.016853</td>\n",
       "      <td>0.002676</td>\n",
       "      <td>0.002792</td>\n",
       "      <td>0.000977</td>\n",
       "      <td>0.8</td>\n",
       "      <td>{'tol': 0.8}</td>\n",
       "      <td>0.785305</td>\n",
       "      <td>0.767176</td>\n",
       "      <td>0.783397</td>\n",
       "      <td>0.771947</td>\n",
       "      <td>...</td>\n",
       "      <td>0.776718</td>\n",
       "      <td>0.006828</td>\n",
       "      <td>3</td>\n",
       "      <td>0.775763</td>\n",
       "      <td>0.780773</td>\n",
       "      <td>0.773616</td>\n",
       "      <td>0.778387</td>\n",
       "      <td>0.777195</td>\n",
       "      <td>0.777147</td>\n",
       "      <td>0.002411</td>\n",
       "    </tr>\n",
       "  </tbody>\n",
       "</table>\n",
       "<p>9 rows × 21 columns</p>\n",
       "</div>"
      ],
      "text/plain": [
       "   mean_fit_time  std_fit_time  mean_score_time  std_score_time param_tol  \\\n",
       "0       0.015160      0.002632         0.000000        0.000000         0   \n",
       "1       0.020545      0.000488         0.010970        0.001091       0.1   \n",
       "2       0.018772      0.002230         0.012141        0.000771       0.2   \n",
       "3       0.018151      0.001164         0.005984        0.003090       0.3   \n",
       "4       0.021744      0.005896         0.006182        0.003910       0.4   \n",
       "5       0.020742      0.003179         0.004788        0.000747       0.5   \n",
       "6       0.019148      0.001164         0.005984        0.002601       0.6   \n",
       "7       0.018151      0.000746         0.004014        0.000670       0.7   \n",
       "8       0.016853      0.002676         0.002792        0.000977       0.8   \n",
       "\n",
       "         params  split0_test_score  split1_test_score  split2_test_score  \\\n",
       "0  {'tol': 0.0}                NaN                NaN                NaN   \n",
       "1  {'tol': 0.1}           0.780534           0.765267           0.789122   \n",
       "2  {'tol': 0.2}           0.783397           0.768130           0.788168   \n",
       "3  {'tol': 0.3}           0.785305           0.767176           0.783397   \n",
       "4  {'tol': 0.4}           0.785305           0.767176           0.783397   \n",
       "5  {'tol': 0.5}           0.785305           0.767176           0.783397   \n",
       "6  {'tol': 0.6}           0.785305           0.767176           0.783397   \n",
       "7  {'tol': 0.7}           0.785305           0.767176           0.783397   \n",
       "8  {'tol': 0.8}           0.785305           0.767176           0.783397   \n",
       "\n",
       "   split3_test_score  ...  mean_test_score  std_test_score  rank_test_score  \\\n",
       "0                NaN  ...              NaN             NaN                9   \n",
       "1           0.770038  ...         0.777099        0.008462                2   \n",
       "2           0.770038  ...         0.778053        0.007743                1   \n",
       "3           0.771947  ...         0.776718        0.006828                3   \n",
       "4           0.771947  ...         0.776718        0.006828                3   \n",
       "5           0.771947  ...         0.776718        0.006828                3   \n",
       "6           0.771947  ...         0.776718        0.006828                3   \n",
       "7           0.771947  ...         0.776718        0.006828                3   \n",
       "8           0.771947  ...         0.776718        0.006828                3   \n",
       "\n",
       "   split0_train_score  split1_train_score  split2_train_score  \\\n",
       "0                 NaN                 NaN                 NaN   \n",
       "1            0.777910            0.779819            0.775286   \n",
       "2            0.777433            0.781727            0.774332   \n",
       "3            0.775763            0.780773            0.773616   \n",
       "4            0.775763            0.780773            0.773616   \n",
       "5            0.775763            0.780773            0.773616   \n",
       "6            0.775763            0.780773            0.773616   \n",
       "7            0.775763            0.780773            0.773616   \n",
       "8            0.775763            0.780773            0.773616   \n",
       "\n",
       "   split3_train_score  split4_train_score  mean_train_score  std_train_score  \n",
       "0                 NaN                 NaN               NaN              NaN  \n",
       "1            0.779819            0.777672          0.778101         0.001676  \n",
       "2            0.781250            0.778626          0.778674         0.002696  \n",
       "3            0.778387            0.777195          0.777147         0.002411  \n",
       "4            0.778387            0.777195          0.777147         0.002411  \n",
       "5            0.778387            0.777195          0.777147         0.002411  \n",
       "6            0.778387            0.777195          0.777147         0.002411  \n",
       "7            0.778387            0.777195          0.777147         0.002411  \n",
       "8            0.778387            0.777195          0.777147         0.002411  \n",
       "\n",
       "[9 rows x 21 columns]"
      ]
     },
     "execution_count": 487,
     "metadata": {},
     "output_type": "execute_result"
    }
   ],
   "source": [
    "pd.DataFrame(model_cv.cv_results_)"
   ]
  },
  {
   "cell_type": "code",
   "execution_count": null,
   "metadata": {},
   "outputs": [],
   "source": []
  }
 ],
 "metadata": {
  "kernelspec": {
   "display_name": "Python 3",
   "language": "python",
   "name": "python3"
  },
  "language_info": {
   "codemirror_mode": {
    "name": "ipython",
    "version": 3
   },
   "file_extension": ".py",
   "mimetype": "text/x-python",
   "name": "python",
   "nbconvert_exporter": "python",
   "pygments_lexer": "ipython3",
   "version": "3.8.3"
  }
 },
 "nbformat": 4,
 "nbformat_minor": 4
}
