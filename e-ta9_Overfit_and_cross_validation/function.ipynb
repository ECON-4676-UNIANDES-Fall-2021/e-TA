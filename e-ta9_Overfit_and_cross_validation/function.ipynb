{
 "cells": [
  {
   "cell_type": "code",
   "execution_count": 1,
   "metadata": {},
   "outputs": [],
   "source": [
    "def fit_model_cross_approach(la):\n",
    "    global sublists,train2 \n",
    "    k=5\n",
    "    x=sublists[la]\n",
    "    dataframe=train2\n",
    "    dataframe = dataframe.sample(frac=1).reset_index(drop=True)\n",
    "    la=int(dataframe.shape[0]/k)\n",
    "    a=0\n",
    "    cortes=[]\n",
    "    for i in range(0,k):\n",
    "        y=[]\n",
    "        y.append(a)\n",
    "        a+=la\n",
    "        y.append(a)\n",
    "        cortes.append(y)\n",
    "    metrics=[]\n",
    "    for i in cortes:\n",
    "        test=dataframe[i[0]:i[1]]\n",
    "        train=dataframe.drop(index=list(range(i[0],i[1])))\n",
    "        clf = LogisticRegression(max_iter=20000).fit(train[x], train['Credit Default'])\n",
    "        y_pred=clf.predict(test[x])\n",
    "        metrics.append(accuracy_score(test['Credit Default'], y_pred))\n",
    "    return sum(metrics)/k\n"
   ]
  },
  {
   "cell_type": "code",
   "execution_count": null,
   "metadata": {},
   "outputs": [],
   "source": []
  }
 ],
 "metadata": {
  "kernelspec": {
   "display_name": "Python 3",
   "language": "python",
   "name": "python3"
  },
  "language_info": {
   "codemirror_mode": {
    "name": "ipython",
    "version": 3
   },
   "file_extension": ".py",
   "mimetype": "text/x-python",
   "name": "python",
   "nbconvert_exporter": "python",
   "pygments_lexer": "ipython3",
   "version": "3.8.3"
  }
 },
 "nbformat": 4,
 "nbformat_minor": 4
}
